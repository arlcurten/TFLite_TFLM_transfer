{
 "cells": [
  {
   "cell_type": "code",
   "execution_count": 1,
   "id": "0743a981-68e5-4864-b9db-0286deece864",
   "metadata": {},
   "outputs": [
    {
     "name": "stdout",
     "output_type": "stream",
     "text": [
      "2.14.0\n"
     ]
    }
   ],
   "source": [
    "import os\n",
    "os.environ[\"TF_USE_LEGACY_KERAS\"] = \"1\"  # !!configure environment to run tf-keras (instead of standalong Keras)\n",
    "import tensorflow as tf\n",
    "# import keras\n",
    "\n",
    "# --- check version --- \n",
    "print(tf.__version__)\n",
    "# print(keras.__version__)\n",
    "# print(\"Keras path:\", keras.__file__)"
   ]
  },
  {
   "cell_type": "code",
   "execution_count": 2,
   "id": "a8d5b89e-4d8b-4478-b461-5c1fc26ae074",
   "metadata": {},
   "outputs": [
    {
     "name": "stdout",
     "output_type": "stream",
     "text": [
      "File Name                                             Modified             Size\n",
      "metadata.json                                  1980-01-01 00:00:00           64\n",
      "config.json                                    1980-01-01 00:00:00         6470\n",
      "model.weights.h5                               2025-03-30 22:13:08        40824\n"
     ]
    }
   ],
   "source": [
    "# --- check model (.keras as some kind of zip) --- \n",
    "import zipfile\n",
    "with zipfile.ZipFile(\"tf_model.keras\", 'r') as z:\n",
    "    z.printdir()  # Lists files inside the archive"
   ]
  },
  {
   "cell_type": "markdown",
   "id": "c63dda21-fa80-42ab-981a-3c917448fa1a",
   "metadata": {},
   "source": [
    "#-- for debugging --#\n",
    "from tensorflow.keras.models import load_model\n",
    "\n",
    "try:\n",
    "    model = load_model(\"tf_model.keras\", compile=False)\n",
    "except Exception as e:\n",
    "    print(\"Got error:\", e)"
   ]
  },
  {
   "cell_type": "markdown",
   "id": "86b374da-6ad0-4c5f-a0b0-f87056aea81f",
   "metadata": {},
   "source": [
    "## Load Model"
   ]
  },
  {
   "cell_type": "code",
   "execution_count": 3,
   "id": "aa81bb4a-79e7-46ab-825c-d5bd1b4e5c33",
   "metadata": {},
   "outputs": [
    {
     "name": "stdout",
     "output_type": "stream",
     "text": [
      "Model: \"model\"\n",
      "_________________________________________________________________\n",
      " Layer (type)                Output Shape              Param #   \n",
      "=================================================================\n",
      " input_layer (InputLayer)    [(55, 12)]                0         \n",
      "                                                                 \n",
      " batchnorm_1 (BatchNormaliz  (55, 12)                  48        \n",
      " ation)                                                          \n",
      "                                                                 \n",
      " dense_1 (Dense)             (55, 64)                  832       \n",
      "                                                                 \n",
      " batchnorm_2 (BatchNormaliz  (55, 64)                  256       \n",
      " ation)                                                          \n",
      "                                                                 \n",
      " dropout (Dropout)           (55, 64)                  0         \n",
      "                                                                 \n",
      " dense_2 (Dense)             (55, 32)                  2080      \n",
      "                                                                 \n",
      " batchnorm_3 (BatchNormaliz  (55, 32)                  128       \n",
      " ation)                                                          \n",
      "                                                                 \n",
      " softmax_output (Dense)      (55, 2)                   66        \n",
      "                                                                 \n",
      "=================================================================\n",
      "Total params: 3410 (13.32 KB)\n",
      "Trainable params: 3194 (12.48 KB)\n",
      "Non-trainable params: 216 (864.00 Byte)\n",
      "_________________________________________________________________\n"
     ]
    }
   ],
   "source": [
    "# --- load model --- \n",
    "model = tf.keras.models.load_model(\"tf_model.keras\", compile=False)\n",
    "model.summary()"
   ]
  },
  {
   "cell_type": "code",
   "execution_count": 4,
   "id": "5c22fdaf-adf8-4207-b310-abdd941b695d",
   "metadata": {},
   "outputs": [
    {
     "name": "stdout",
     "output_type": "stream",
     "text": [
      "\n",
      "Model architecture plot saved as: C:\\Users\\g9161\\Gridware\\workspace\\layers.png\n"
     ]
    }
   ],
   "source": [
    "# --- Plot the model architecture --- \n",
    "from tensorflow.keras.utils import plot_model\n",
    "output_image_path = \"layers.png\"\n",
    "\n",
    "plot_model(\n",
    "    model,\n",
    "    to_file=output_image_path,\n",
    "    show_shapes=True,\n",
    "    show_layer_names=True,\n",
    "    expand_nested=True\n",
    ")\n",
    "\n",
    "print(f\"\\nModel architecture plot saved as: {os.path.abspath(output_image_path)}\")"
   ]
  },
  {
   "cell_type": "markdown",
   "id": "682a7739-0ea0-4a91-a7a1-56bcb0c6353c",
   "metadata": {},
   "source": [
    "## TF Lite Model"
   ]
  },
  {
   "cell_type": "code",
   "execution_count": 5,
   "id": "a234c32f-3989-4fb2-9610-95536f79d866",
   "metadata": {},
   "outputs": [
    {
     "name": "stdout",
     "output_type": "stream",
     "text": [
      "INFO:tensorflow:Assets written to: C:\\Users\\g9161\\AppData\\Local\\Temp\\tmpf6qnhl0r\\assets\n"
     ]
    },
    {
     "name": "stderr",
     "output_type": "stream",
     "text": [
      "INFO:tensorflow:Assets written to: C:\\Users\\g9161\\AppData\\Local\\Temp\\tmpf6qnhl0r\\assets\n"
     ]
    }
   ],
   "source": [
    "# --- convert keras model into TF Lite --- \n",
    "TFLITE_MODEL_NAME = \"tf_lite_model.tflite\"\n",
    "tf_lite_converter = tf.lite.TFLiteConverter.from_keras_model(model)\n",
    "tflite_model = tf_lite_converter.convert()"
   ]
  },
  {
   "cell_type": "code",
   "execution_count": 6,
   "id": "28d2a6ea-8c92-4f6c-9b00-762496809b31",
   "metadata": {},
   "outputs": [
    {
     "data": {
      "text/plain": [
       "14548"
      ]
     },
     "execution_count": 6,
     "metadata": {},
     "output_type": "execute_result"
    }
   ],
   "source": [
    "# --- write to file --- \n",
    "open(TFLITE_MODEL_NAME, \"wb\").write(tflite_model)"
   ]
  },
  {
   "cell_type": "code",
   "execution_count": 7,
   "id": "9326d28b-44bb-4360-b10d-9f046c92eeb2",
   "metadata": {},
   "outputs": [
    {
     "name": "stdout",
     "output_type": "stream",
     "text": [
      "File size: 14.207 Kilobytes\n"
     ]
    }
   ],
   "source": [
    "# --- check file size --- \n",
    "tflite_file_size = os.path.getsize(TFLITE_MODEL_NAME)\n",
    "def convert_bytes(size, unit=None):\n",
    "    if unit == \"KB\":\n",
    "        return print('File size: ' + str(round(size / 1024, 3)) + ' Kilobytes')\n",
    "    elif unit == \"MB\":\n",
    "        return print('File size: ' + str(round(size / (1024 * 1024), 3)) + ' Megabytes')\n",
    "    else:\n",
    "        return print('File size: ' + str(size) + ' bytes')\n",
    "convert_bytes(tflite_file_size, \"KB\")"
   ]
  },
  {
   "cell_type": "markdown",
   "id": "38906698-7710-4da9-8b9e-ed556bc0f480",
   "metadata": {},
   "source": [
    "## Inference TF Lite Model (Verification)"
   ]
  },
  {
   "cell_type": "code",
   "execution_count": 8,
   "id": "15c596dc-acfd-4fb2-8151-c2d44a4bbd11",
   "metadata": {},
   "outputs": [
    {
     "name": "stdout",
     "output_type": "stream",
     "text": [
      "Input dtype: <class 'numpy.float32'>\n"
     ]
    }
   ],
   "source": [
    "# --- read TF Lite Model --- \n",
    "interpreter = tf.lite.Interpreter(model_path=TFLITE_MODEL_NAME)\n",
    "interpreter.allocate_tensors()\n",
    "# --- check I/O type --- \n",
    "input_details = interpreter.get_input_details()\n",
    "output_details = interpreter.get_output_details()\n",
    "print(\"Input dtype:\", input_details[0]['dtype'])"
   ]
  },
  {
   "cell_type": "code",
   "execution_count": 9,
   "id": "80d0e509-bef5-427c-9405-56c00eb17e7b",
   "metadata": {
    "scrolled": true
   },
   "outputs": [
    {
     "name": "stdout",
     "output_type": "stream",
     "text": [
      "[[0. 1.]\n",
      " [0. 1.]\n",
      " [0. 1.]\n",
      " [0. 1.]\n",
      " [0. 1.]\n",
      " [0. 1.]\n",
      " [0. 1.]\n",
      " [0. 1.]\n",
      " [0. 1.]\n",
      " [0. 1.]\n",
      " [0. 1.]\n",
      " [0. 1.]\n",
      " [0. 1.]\n",
      " [0. 1.]\n",
      " [0. 1.]\n",
      " [0. 1.]\n",
      " [0. 1.]\n",
      " [0. 1.]\n",
      " [0. 1.]\n",
      " [0. 1.]\n",
      " [0. 1.]\n",
      " [0. 1.]\n",
      " [0. 1.]\n",
      " [0. 1.]\n",
      " [0. 1.]\n",
      " [0. 1.]\n",
      " [0. 1.]\n",
      " [0. 1.]\n",
      " [0. 1.]\n",
      " [0. 1.]\n",
      " [0. 1.]\n",
      " [0. 1.]\n",
      " [0. 1.]\n",
      " [0. 1.]\n",
      " [0. 1.]\n",
      " [0. 1.]\n",
      " [0. 1.]\n",
      " [0. 1.]\n",
      " [0. 1.]\n",
      " [0. 1.]\n",
      " [0. 1.]\n",
      " [0. 1.]\n",
      " [0. 1.]\n",
      " [0. 1.]\n",
      " [0. 1.]\n",
      " [0. 1.]\n",
      " [0. 1.]\n",
      " [0. 1.]\n",
      " [0. 1.]\n",
      " [0. 1.]\n",
      " [0. 1.]\n",
      " [0. 1.]\n",
      " [0. 1.]\n",
      " [0. 1.]\n",
      " [0. 1.]]\n"
     ]
    }
   ],
   "source": [
    "# --- form input --- \n",
    "import numpy as np\n",
    "test_input = [4861.92, 313.62, 0.15, -0.05, -810, 12389, 0.05, 0.1, 763.684, 12610, -0.00001093, 0.0000104]\n",
    "test_input = np.tile(test_input, (55, 1)).astype('float32')  # Shape (55, 12)\n",
    "# --- Inference --- \n",
    "interpreter.set_tensor(input_details[0]['index'], test_input)\n",
    "interpreter.invoke()\n",
    "output = interpreter.get_tensor(output_details[0]['index'])\n",
    "print(output)"
   ]
  },
  {
   "cell_type": "code",
   "execution_count": null,
   "id": "cfbd5bd1-f0f0-4b29-acd4-6ce8585c81ab",
   "metadata": {},
   "outputs": [],
   "source": []
  },
  {
   "cell_type": "markdown",
   "id": "45d65c07-58c5-4b58-aa46-a2cf0d16c961",
   "metadata": {},
   "source": [
    "## Convert to Hex Array for C++ Use"
   ]
  },
  {
   "cell_type": "code",
   "execution_count": 12,
   "id": "9935ad32-3d71-46df-9550-d6d326398811",
   "metadata": {},
   "outputs": [],
   "source": [
    "def convert_tflite_to_c_array(file_path, var_name=\"model\"):\n",
    "    with open(file_path, \"rb\") as f:\n",
    "        data = f.read()\n",
    "    \n",
    "    with open(f\"{var_name}.cc\", \"w\") as f:\n",
    "        f.write(f\"const unsigned char {var_name}[] = {{\\n\")\n",
    "\n",
    "        for i, byte in enumerate(data):\n",
    "            if i % 12 == 0:\n",
    "                f.write(\"\\n    \")\n",
    "            f.write(f\"0x{byte:02x}, \")\n",
    "\n",
    "        f.write(f\"\\n}};\\n\")\n",
    "        f.write(f\"const unsigned int {var_name}_len = {len(data)};\\n\")\n",
    "\n",
    "# Usage\n",
    "convert_tflite_to_c_array(TFLITE_MODEL_NAME, \"model_tflite\")"
   ]
  },
  {
   "cell_type": "code",
   "execution_count": null,
   "id": "41fbe2eb-76c7-4f05-8399-5c403526d60a",
   "metadata": {},
   "outputs": [],
   "source": []
  },
  {
   "cell_type": "code",
   "execution_count": null,
   "id": "c9f9af18-764a-46ef-9a50-d4f362bafbe8",
   "metadata": {},
   "outputs": [],
   "source": []
  }
 ],
 "metadata": {
  "kernelspec": {
   "display_name": "Python 3 (ipykernel)",
   "language": "python",
   "name": "python3"
  },
  "language_info": {
   "codemirror_mode": {
    "name": "ipython",
    "version": 3
   },
   "file_extension": ".py",
   "mimetype": "text/x-python",
   "name": "python",
   "nbconvert_exporter": "python",
   "pygments_lexer": "ipython3",
   "version": "3.10.16"
  }
 },
 "nbformat": 4,
 "nbformat_minor": 5
}
